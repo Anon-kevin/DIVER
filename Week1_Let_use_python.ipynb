{
  "nbformat": 4,
  "nbformat_minor": 0,
  "metadata": {
    "colab": {
      "name": "Untitled0.ipynb",
      "provenance": []
    },
    "kernelspec": {
      "name": "python3",
      "display_name": "Python 3"
    }
  },
  "cells": [
    {
      "cell_type": "code",
      "metadata": {
        "colab": {
          "base_uri": "https://localhost:8080/"
        },
        "id": "ePBUGO-D0Fic",
        "outputId": "7754860f-c8c7-45cf-dab4-38fdc6191026"
      },
      "source": [
        "#Problem 1\n",
        "THICKNESS = 0.00008\n",
        "folded_thickness = THICKNESS*(2**43)\n",
        "print(\"Thickness: {} meters\".format(folded_thickness))"
      ],
      "execution_count": 2,
      "outputs": [
        {
          "output_type": "stream",
          "text": [
            "Thickness: 703687441.77664 meters\n"
          ],
          "name": "stdout"
        }
      ]
    },
    {
      "cell_type": "code",
      "metadata": {
        "colab": {
          "base_uri": "https://localhost:8080/"
        },
        "id": "idGB0-2x2Wk8",
        "outputId": "8bc18718-6387-43ec-9e35-8047a78937e3"
      },
      "source": [
        "#Problem 2\n",
        "print(\"Thickness: {: .2f} kilometers\".format(folded_thickness/1000))"
      ],
      "execution_count": 3,
      "outputs": [
        {
          "output_type": "stream",
          "text": [
            "Thickness:  703687.44 kilometers\n"
          ],
          "name": "stdout"
        }
      ]
    },
    {
      "cell_type": "code",
      "metadata": {
        "colab": {
          "base_uri": "https://localhost:8080/"
        },
        "id": "Vgb8FrYl2mYN",
        "outputId": "186a67b5-6a9b-4c72-f0c6-8312002b1c13"
      },
      "source": [
        "#Problem 3\n",
        "for i in range(43):\n",
        "  THICKNESS = THICKNESS*2\n",
        "print(\"Thickness: {} meters\".format(THICKNESS))"
      ],
      "execution_count": 4,
      "outputs": [
        {
          "output_type": "stream",
          "text": [
            "Thickness: 703687441.77664 meters\n"
          ],
          "name": "stdout"
        }
      ]
    },
    {
      "cell_type": "code",
      "metadata": {
        "colab": {
          "base_uri": "https://localhost:8080/"
        },
        "id": "J8lPxXkO3v0R",
        "outputId": "175b5f51-54c8-43b7-a78b-abf931e7adcf"
      },
      "source": [
        "#Problem 4\n",
        "import time\n",
        "THICKNESS = 0.00008\n",
        "start = time.time()\n",
        "for i in range(1000):\n",
        "  THICKNESS = THICKNESS*2\n",
        "elapsed_time = time.time() - start\n",
        "print(\"Thickness: {} meters\".format(THICKNESS))\n",
        "print(\"time : {}[s]\".format(elapsed_time))"
      ],
      "execution_count": 21,
      "outputs": [
        {
          "output_type": "stream",
          "text": [
            "Thickness: 8.572068857490139e+296 meters\n",
            "time : 0.00026988983154296875[s]\n"
          ],
          "name": "stdout"
        }
      ]
    },
    {
      "cell_type": "code",
      "metadata": {
        "colab": {
          "base_uri": "https://localhost:8080/"
        },
        "id": "8gWafaMdEQWf",
        "outputId": "e30986b2-a7fa-4239-85ca-656fafab6b41"
      },
      "source": [
        "#Problem 5\n",
        "THICKNESS = 0.00008\n",
        "points = [THICKNESS]\n",
        "for i in range(43):\n",
        "  THICKNESS = THICKNESS * 2\n",
        "  points.append(THICKNESS)\n",
        "print(points)\n",
        "print('There are {} values in the list'.format(len(points)))\n",
        "print(points[43])"
      ],
      "execution_count": 20,
      "outputs": [
        {
          "output_type": "stream",
          "text": [
            "[8e-05, 0.00016, 0.00032, 0.00064, 0.00128, 0.00256, 0.00512, 0.01024, 0.02048, 0.04096, 0.08192, 0.16384, 0.32768, 0.65536, 1.31072, 2.62144, 5.24288, 10.48576, 20.97152, 41.94304, 83.88608, 167.77216, 335.54432, 671.08864, 1342.17728, 2684.35456, 5368.70912, 10737.41824, 21474.83648, 42949.67296, 85899.34592, 171798.69184, 343597.38368, 687194.76736, 1374389.53472, 2748779.06944, 5497558.13888, 10995116.27776, 21990232.55552, 43980465.11104, 87960930.22208, 175921860.44416, 351843720.88832, 703687441.77664]\n",
            "There are 44 values in the list\n",
            "703687441.77664\n"
          ],
          "name": "stdout"
        }
      ]
    },
    {
      "cell_type": "code",
      "metadata": {
        "colab": {
          "base_uri": "https://localhost:8080/",
          "height": 295
        },
        "id": "O_sDWHzlES2Z",
        "outputId": "bdab563a-0925-4aa3-9c8f-2807d520013f"
      },
      "source": [
        "#Problem 6\n",
        "import matplotlib.pyplot as plt\n",
        "%matplotlib inline\n",
        "plt.title(\"thickness of folded paper\")\n",
        "plt.xlabel(\"number of folds\")\n",
        "plt.ylabel(\"thickness[m]\")\n",
        "plt.plot(points)\n",
        "plt.show()\n",
        "# The thickness of folded paper increase expotentially up to more than 700 000km at 43th."
      ],
      "execution_count": 7,
      "outputs": [
        {
          "output_type": "display_data",
          "data": {
            "image/png": "[encoded data removed]",
            "text/plain": [
              "<Figure size 432x288 with 1 Axes>"
            ]
          },
          "metadata": {
            "tags": [],
            "needs_background": "light"
          }
        }
      ]
    },
    {
      "cell_type": "code",
      "metadata": {
        "colab": {
          "base_uri": "https://localhost:8080/",
          "height": 866
        },
        "id": "SIFNYapeES6G",
        "outputId": "ee77e383-35bc-498a-eff9-4c09e8dbaaf5"
      },
      "source": [
        "#Problem 7\n",
        "plt.title(\"Graph 1\")\n",
        "plt.xlabel(\"number of folds\")\n",
        "plt.ylabel(\"thickness[m]\")\n",
        "plt.tick_params(labelsize=15)\n",
        "plt.plot(points, color = 'red', marker='o')\n",
        "plt.show()\n",
        "\n",
        "plt.title(\"Graph 2\")\n",
        "plt.xlabel(\"number of folds\")\n",
        "plt.ylabel(\"thickness[m]\")\n",
        "plt.tick_params(labelsize=15)\n",
        "plt.plot(points, color = 'green', marker='x')\n",
        "plt.show()\n",
        "\n",
        "plt.title(\"Graph 3\")\n",
        "plt.xlabel(\"number of folds\")\n",
        "plt.ylabel(\"thickness[m]\")\n",
        "plt.tick_params(labelsize=15)\n",
        "plt.plot(points, color = 'blue', marker='+')\n",
        "plt.show()"
      ],
      "execution_count": 19,
      "outputs": [
        {
          "output_type": "display_data",
          "data": {
            "image/png": "[encoded data removed]",
            "text/plain": [
              "<Figure size 432x288 with 1 Axes>"
            ]
          },
          "metadata": {
            "tags": [],
            "needs_background": "light"
          }
        },
        {
          "output_type": "display_data",
          "data": {
            "image/png": "[encoded data removed]",
            "text/plain": [
              "<Figure size 432x288 with 1 Axes>"
            ]
          },
          "metadata": {
            "tags": [],
            "needs_background": "light"
          }
        },
        {
          "output_type": "display_data",
          "data": {
            "image/png": "[encoded data removed]",
            "text/plain": [
              "<Figure size 432x288 with 1 Axes>"
            ]
          },
          "metadata": {
            "tags": [],
            "needs_background": "light"
          }
        }
      ]
    }
  ]
}